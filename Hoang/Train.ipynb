{
  "nbformat": 4,
  "nbformat_minor": 0,
  "metadata": {
    "colab": {
      "name": "Image Classification.ipynb",
      "provenance": [],
      "collapsed_sections": []
    },
    "kernelspec": {
      "name": "python3",
      "display_name": "Python 3"
    },
    "accelerator": "GPU"
  },
  "cells": [
    {
      "cell_type": "code",
      "metadata": {
        "id": "rCwnXRqXB1EE",
        "colab_type": "code",
        "outputId": "4d03a58a-cdc7-4012-ce84-7af167757e0a",
        "colab": {
          "base_uri": "https://localhost:8080/",
          "height": 35
        }
      },
      "source": [
        "from google.colab import drive\n",
        "drive.mount('/content/drive')"
      ],
      "execution_count": 1,
      "outputs": [
        {
          "output_type": "stream",
          "text": [
            "Drive already mounted at /content/drive; to attempt to forcibly remount, call drive.mount(\"/content/drive\", force_remount=True).\n"
          ],
          "name": "stdout"
        }
      ]
    },
    {
      "cell_type": "code",
      "metadata": {
        "id": "23yeFF1BB4dZ",
        "colab_type": "code",
        "colab": {}
      },
      "source": [
        "import os\n",
        "os.chdir(\"/content/drive/My Drive/Colab Notebooks/Dataviz classification\")"
      ],
      "execution_count": 0,
      "outputs": []
    },
    {
      "cell_type": "code",
      "metadata": {
        "id": "7EcEsrAmIPH2",
        "colab_type": "code",
        "outputId": "60a65ea0-81ed-4354-cc26-7ea007def0a1",
        "colab": {
          "base_uri": "https://localhost:8080/",
          "height": 82
        }
      },
      "source": [
        "import pandas as pd\n",
        "import numpy as np \n",
        "import itertools\n",
        "import keras\n",
        "from sklearn import metrics\n",
        "from sklearn.metrics import confusion_matrix\n",
        "from keras.preprocessing.image import ImageDataGenerator, img_to_array, load_img \n",
        "from keras.models import Sequential \n",
        "from keras import optimizers\n",
        "from keras.preprocessing import image\n",
        "from keras.layers import Dropout, Flatten, Dense  \n",
        "from keras import applications  \n",
        "from keras.utils.np_utils import to_categorical  \n",
        "import matplotlib.pyplot as plt \n",
        "import matplotlib.image as mpimg\n",
        "%matplotlib inline\n",
        "import math  \n",
        "import datetime\n",
        "import time"
      ],
      "execution_count": 3,
      "outputs": [
        {
          "output_type": "stream",
          "text": [
            "Using TensorFlow backend.\n"
          ],
          "name": "stderr"
        },
        {
          "output_type": "display_data",
          "data": {
            "text/html": [
              "<p style=\"color: red;\">\n",
              "The default version of TensorFlow in Colab will soon switch to TensorFlow 2.x.<br>\n",
              "We recommend you <a href=\"https://www.tensorflow.org/guide/migrate\" target=\"_blank\">upgrade</a> now \n",
              "or ensure your notebook will continue to use TensorFlow 1.x via the <code>%tensorflow_version 1.x</code> magic:\n",
              "<a href=\"https://colab.research.google.com/notebooks/tensorflow_version.ipynb\" target=\"_blank\">more info</a>.</p>\n"
            ],
            "text/plain": [
              "<IPython.core.display.HTML object>"
            ]
          },
          "metadata": {
            "tags": []
          }
        }
      ]
    },
    {
      "cell_type": "code",
      "metadata": {
        "id": "5roLJcYAIPd0",
        "colab_type": "code",
        "colab": {}
      },
      "source": [
        "#Default dimensions we found online\n",
        "img_width, img_height = 224, 224  \n",
        "   \n",
        "#Create a bottleneck file\n",
        "top_model_weights_path = 'bottleneck_fc_model.h5' \n",
        "\n",
        "# loading up our datasets\n",
        "train_data_dir = 'training/'  \n",
        "validation_data_dir = \"validation/\"\n",
        "   \n",
        "# number of epochs to train top model  \n",
        "epochs = 100 #this has been changed after multiple model run  \n",
        "# batch size used by flow_from_directory and predict_generator  \n",
        "batch_size = 20"
      ],
      "execution_count": 0,
      "outputs": []
    },
    {
      "cell_type": "code",
      "metadata": {
        "id": "Yr9wqgMVIiQY",
        "colab_type": "code",
        "outputId": "be75bf88-cfb6-4862-9ef0-f9d69e73d24f",
        "colab": {
          "base_uri": "https://localhost:8080/",
          "height": 392
        }
      },
      "source": [
        "vgg16 = applications.VGG16(include_top=False, weights='imagenet')"
      ],
      "execution_count": 5,
      "outputs": [
        {
          "output_type": "stream",
          "text": [
            "WARNING:tensorflow:From /usr/local/lib/python3.6/dist-packages/keras/backend/tensorflow_backend.py:66: The name tf.get_default_graph is deprecated. Please use tf.compat.v1.get_default_graph instead.\n",
            "\n",
            "WARNING:tensorflow:From /usr/local/lib/python3.6/dist-packages/keras/backend/tensorflow_backend.py:541: The name tf.placeholder is deprecated. Please use tf.compat.v1.placeholder instead.\n",
            "\n",
            "WARNING:tensorflow:From /usr/local/lib/python3.6/dist-packages/keras/backend/tensorflow_backend.py:4432: The name tf.random_uniform is deprecated. Please use tf.random.uniform instead.\n",
            "\n",
            "WARNING:tensorflow:From /usr/local/lib/python3.6/dist-packages/keras/backend/tensorflow_backend.py:4267: The name tf.nn.max_pool is deprecated. Please use tf.nn.max_pool2d instead.\n",
            "\n",
            "WARNING:tensorflow:From /usr/local/lib/python3.6/dist-packages/keras/backend/tensorflow_backend.py:190: The name tf.get_default_session is deprecated. Please use tf.compat.v1.get_default_session instead.\n",
            "\n",
            "WARNING:tensorflow:From /usr/local/lib/python3.6/dist-packages/keras/backend/tensorflow_backend.py:197: The name tf.ConfigProto is deprecated. Please use tf.compat.v1.ConfigProto instead.\n",
            "\n",
            "WARNING:tensorflow:From /usr/local/lib/python3.6/dist-packages/keras/backend/tensorflow_backend.py:203: The name tf.Session is deprecated. Please use tf.compat.v1.Session instead.\n",
            "\n",
            "WARNING:tensorflow:From /usr/local/lib/python3.6/dist-packages/keras/backend/tensorflow_backend.py:207: The name tf.global_variables is deprecated. Please use tf.compat.v1.global_variables instead.\n",
            "\n",
            "WARNING:tensorflow:From /usr/local/lib/python3.6/dist-packages/keras/backend/tensorflow_backend.py:216: The name tf.is_variable_initialized is deprecated. Please use tf.compat.v1.is_variable_initialized instead.\n",
            "\n",
            "WARNING:tensorflow:From /usr/local/lib/python3.6/dist-packages/keras/backend/tensorflow_backend.py:223: The name tf.variables_initializer is deprecated. Please use tf.compat.v1.variables_initializer instead.\n",
            "\n"
          ],
          "name": "stdout"
        }
      ]
    },
    {
      "cell_type": "code",
      "metadata": {
        "id": "StH0JLGEI9ps",
        "colab_type": "code",
        "colab": {}
      },
      "source": [
        "datagen = ImageDataGenerator(rescale=1. / 255)  #needed to create the bottleneck .npy files"
      ],
      "execution_count": 0,
      "outputs": []
    },
    {
      "cell_type": "code",
      "metadata": {
        "id": "wIbyM7P5JAdu",
        "colab_type": "code",
        "outputId": "5918c693-dc38-47fa-e2ae-cf52b70851cc",
        "colab": {
          "base_uri": "https://localhost:8080/",
          "height": 55
        }
      },
      "source": [
        "'''#__this can take an hour and half to run so only run it once. \n",
        "#once the npy files have been created, no need to run again. Convert this cell to a code cell to run.__\n",
        "\n",
        "start = datetime.datetime.now()\n",
        "   \n",
        "generator = datagen.flow_from_directory(  \n",
        "     train_data_dir,  \n",
        "     target_size=(img_width, img_height),  \n",
        "     batch_size=batch_size,  \n",
        "     class_mode=None,  \n",
        "     shuffle=False)  \n",
        "   \n",
        "nb_train_samples = len(generator.filenames)  \n",
        "num_classes = len(generator.class_indices)  \n",
        "   \n",
        "predict_size_train = int(math.ceil(nb_train_samples / batch_size))  \n",
        "   \n",
        "bottleneck_features_train = vgg16.predict_generator(generator, predict_size_train)  \n",
        "   \n",
        "np.save('bottleneck_features_train.npy', bottleneck_features_train)\n",
        "end= datetime.datetime.now()\n",
        "elapsed= end-start\n",
        "print ('Time: ', elapsed)'''"
      ],
      "execution_count": 7,
      "outputs": [
        {
          "output_type": "execute_result",
          "data": {
            "text/plain": [
              "\"#__this can take an hour and half to run so only run it once. \\n#once the npy files have been created, no need to run again. Convert this cell to a code cell to run.__\\n\\nstart = datetime.datetime.now()\\n   \\ngenerator = datagen.flow_from_directory(  \\n     train_data_dir,  \\n     target_size=(img_width, img_height),  \\n     batch_size=batch_size,  \\n     class_mode=None,  \\n     shuffle=False)  \\n   \\nnb_train_samples = len(generator.filenames)  \\nnum_classes = len(generator.class_indices)  \\n   \\npredict_size_train = int(math.ceil(nb_train_samples / batch_size))  \\n   \\nbottleneck_features_train = vgg16.predict_generator(generator, predict_size_train)  \\n   \\nnp.save('bottleneck_features_train.npy', bottleneck_features_train)\\nend= datetime.datetime.now()\\nelapsed= end-start\\nprint ('Time: ', elapsed)\""
            ]
          },
          "metadata": {
            "tags": []
          },
          "execution_count": 7
        }
      ]
    },
    {
      "cell_type": "code",
      "metadata": {
        "id": "Y7W4KcOfJVI9",
        "colab_type": "code",
        "outputId": "d79eb8a8-43f5-448b-815a-83cb9795f0a8",
        "colab": {
          "base_uri": "https://localhost:8080/",
          "height": 55
        }
      },
      "source": [
        "\"\"\"\n",
        "#__this can take half an hour to run so only run it once. once the npy files have been created, no need to run again. Convert this cell to a code cell to run.__\n",
        "\n",
        "start = datetime.datetime.now()\n",
        "generator = datagen.flow_from_directory(  \n",
        "     validation_data_dir,  \n",
        "     target_size=(img_width, img_height),  \n",
        "     batch_size=batch_size,  \n",
        "     class_mode=None,  \n",
        "     shuffle=False)  \n",
        "   \n",
        "nb_validation_samples = len(generator.filenames)  \n",
        "   \n",
        "predict_size_validation = int(math.ceil(nb_validation_samples / batch_size))  \n",
        "   \n",
        "bottleneck_features_validation = vgg16.predict_generator(  \n",
        "     generator, predict_size_validation)  \n",
        "   \n",
        "np.save('bottleneck_features_validation.npy', bottleneck_features_validation) \n",
        "end= datetime.datetime.now()\n",
        "elapsed= end-start\n",
        "print ('Time: ', elapsed)\"\"\""
      ],
      "execution_count": 8,
      "outputs": [
        {
          "output_type": "execute_result",
          "data": {
            "text/plain": [
              "\"\\n#__this can take half an hour to run so only run it once. once the npy files have been created, no need to run again. Convert this cell to a code cell to run.__\\n\\nstart = datetime.datetime.now()\\ngenerator = datagen.flow_from_directory(  \\n     validation_data_dir,  \\n     target_size=(img_width, img_height),  \\n     batch_size=batch_size,  \\n     class_mode=None,  \\n     shuffle=False)  \\n   \\nnb_validation_samples = len(generator.filenames)  \\n   \\npredict_size_validation = int(math.ceil(nb_validation_samples / batch_size))  \\n   \\nbottleneck_features_validation = vgg16.predict_generator(  \\n     generator, predict_size_validation)  \\n   \\nnp.save('bottleneck_features_validation.npy', bottleneck_features_validation) \\nend= datetime.datetime.now()\\nelapsed= end-start\\nprint ('Time: ', elapsed)\""
            ]
          },
          "metadata": {
            "tags": []
          },
          "execution_count": 8
        }
      ]
    },
    {
      "cell_type": "code",
      "metadata": {
        "id": "6N6LD2ZrJbjG",
        "colab_type": "code",
        "outputId": "60ceed93-f22b-4078-90ea-cfbcc3eaefde",
        "colab": {
          "base_uri": "https://localhost:8080/",
          "height": 35
        }
      },
      "source": [
        "print('-'*117)"
      ],
      "execution_count": 9,
      "outputs": [
        {
          "output_type": "stream",
          "text": [
            "---------------------------------------------------------------------------------------------------------------------\n"
          ],
          "name": "stdout"
        }
      ]
    },
    {
      "cell_type": "code",
      "metadata": {
        "id": "D8Z9S9abJhGZ",
        "colab_type": "code",
        "outputId": "d74b309a-3bfb-4cee-e2bb-75734c0ae6a7",
        "colab": {
          "base_uri": "https://localhost:8080/",
          "height": 35
        }
      },
      "source": [
        "#training data\n",
        "generator_top = datagen.flow_from_directory(  \n",
        "         train_data_dir,  \n",
        "         target_size=(img_width, img_height),  \n",
        "         batch_size=batch_size,  \n",
        "         class_mode='categorical',  \n",
        "         shuffle=False)  \n",
        "   \n",
        "nb_train_samples = len(generator_top.filenames)  \n",
        "num_classes = len(generator_top.class_indices)  \n",
        "   \n",
        "# load the bottleneck features saved earlier  \n",
        "train_data = np.load('bottleneck_features_train.npy')  \n",
        "   \n",
        "# get the class lebels for the training data, in the original order  \n",
        "train_labels = generator_top.classes  \n",
        "   \n",
        "# convert the training labels to categorical vectors  \n",
        "train_labels = to_categorical(train_labels, num_classes=num_classes)"
      ],
      "execution_count": 10,
      "outputs": [
        {
          "output_type": "stream",
          "text": [
            "Found 1055 images belonging to 6 classes.\n"
          ],
          "name": "stdout"
        }
      ]
    },
    {
      "cell_type": "code",
      "metadata": {
        "id": "MEFqzLTALfGU",
        "colab_type": "code",
        "outputId": "7b1b1f48-2c13-42ff-9e66-38c1a6e6edb9",
        "colab": {
          "base_uri": "https://localhost:8080/",
          "height": 35
        }
      },
      "source": [
        "#validation data\n",
        "generator_top = datagen.flow_from_directory(  \n",
        "         validation_data_dir,  \n",
        "         target_size=(img_width, img_height),  \n",
        "         batch_size=batch_size,  \n",
        "         class_mode=None,  \n",
        "         shuffle=False)  \n",
        "   \n",
        "nb_validation_samples = len(generator_top.filenames)  \n",
        "   \n",
        "validation_data = np.load('bottleneck_features_validation.npy')  \n",
        "   \n",
        "\n",
        "validation_labels = generator_top.classes  \n",
        "validation_labels = to_categorical(validation_labels, num_classes=num_classes)"
      ],
      "execution_count": 11,
      "outputs": [
        {
          "output_type": "stream",
          "text": [
            "Found 355 images belonging to 6 classes.\n"
          ],
          "name": "stdout"
        }
      ]
    },
    {
      "cell_type": "code",
      "metadata": {
        "id": "euzuEwN1I7cS",
        "colab_type": "code",
        "colab": {
          "base_uri": "https://localhost:8080/",
          "height": 35
        },
        "outputId": "4c1b4f36-1e4a-42fa-d800-5ccb0ae303fd"
      },
      "source": [
        "len(validation_data)"
      ],
      "execution_count": 12,
      "outputs": [
        {
          "output_type": "execute_result",
          "data": {
            "text/plain": [
              "355"
            ]
          },
          "metadata": {
            "tags": []
          },
          "execution_count": 12
        }
      ]
    },
    {
      "cell_type": "code",
      "metadata": {
        "id": "mo3fHxceJXYs",
        "colab_type": "code",
        "colab": {
          "base_uri": "https://localhost:8080/",
          "height": 35
        },
        "outputId": "410f8f13-a4e5-4747-dbc4-34596bf24e45"
      },
      "source": [
        "len(validation_labels)"
      ],
      "execution_count": 13,
      "outputs": [
        {
          "output_type": "execute_result",
          "data": {
            "text/plain": [
              "355"
            ]
          },
          "metadata": {
            "tags": []
          },
          "execution_count": 13
        }
      ]
    },
    {
      "cell_type": "code",
      "metadata": {
        "id": "wvi0zCHYJ6Fu",
        "colab_type": "code",
        "outputId": "a14c0db3-8ba5-427b-9baa-0797b37980b7",
        "colab": {
          "base_uri": "https://localhost:8080/",
          "height": 1000
        }
      },
      "source": [
        "#This is the best model we found. For additional models, check out I_notebook.ipynb\n",
        "start = datetime.datetime.now()\n",
        "model = Sequential()  \n",
        "model.add(Flatten(input_shape=train_data.shape[1:]))  \n",
        "model.add(Dense(100))\n",
        "model.add(keras.layers.LeakyReLU(alpha=0.3))  \n",
        "model.add(Dropout(0.5))  \n",
        "model.add(Dense(50))  \n",
        "model.add(keras.layers.LeakyReLU(alpha=0.3))\n",
        "model.add(Dropout(0.5)) \n",
        "model.add(Dense(num_classes, activation='softmax'))  \n",
        "\n",
        "model.compile(loss='categorical_crossentropy',\n",
        "              optimizer=optimizers.Adam(lr=1e-4),\n",
        "              metrics=['acc'])  \n",
        "\n",
        "history = model.fit(train_data, train_labels,  \n",
        "      epochs=epochs,\n",
        "      batch_size=batch_size,  \n",
        "      validation_data=(validation_data, validation_labels))  \n",
        "\n",
        "model.save_weights(top_model_weights_path)  \n",
        "\n",
        "(eval_loss, eval_accuracy) = model.evaluate(  \n",
        " validation_data, validation_labels, batch_size=batch_size, verbose=1)\n",
        "\n",
        "print(\"[INFO] accuracy: {:.2f}%\".format(eval_accuracy * 100))  \n",
        "print(\"[INFO] Loss: {}\".format(eval_loss))  \n",
        "end= datetime.datetime.now()\n",
        "elapsed= end-start\n",
        "print ('Time: ', elapsed)"
      ],
      "execution_count": 14,
      "outputs": [
        {
          "output_type": "stream",
          "text": [
            "WARNING:tensorflow:From /usr/local/lib/python3.6/dist-packages/keras/backend/tensorflow_backend.py:148: The name tf.placeholder_with_default is deprecated. Please use tf.compat.v1.placeholder_with_default instead.\n",
            "\n",
            "WARNING:tensorflow:From /usr/local/lib/python3.6/dist-packages/keras/backend/tensorflow_backend.py:3733: calling dropout (from tensorflow.python.ops.nn_ops) with keep_prob is deprecated and will be removed in a future version.\n",
            "Instructions for updating:\n",
            "Please use `rate` instead of `keep_prob`. Rate should be set to `rate = 1 - keep_prob`.\n",
            "WARNING:tensorflow:From /usr/local/lib/python3.6/dist-packages/keras/optimizers.py:793: The name tf.train.Optimizer is deprecated. Please use tf.compat.v1.train.Optimizer instead.\n",
            "\n",
            "WARNING:tensorflow:From /usr/local/lib/python3.6/dist-packages/keras/backend/tensorflow_backend.py:3576: The name tf.log is deprecated. Please use tf.math.log instead.\n",
            "\n",
            "WARNING:tensorflow:From /usr/local/lib/python3.6/dist-packages/tensorflow_core/python/ops/math_grad.py:1424: where (from tensorflow.python.ops.array_ops) is deprecated and will be removed in a future version.\n",
            "Instructions for updating:\n",
            "Use tf.where in 2.0, which has the same broadcast rule as np.where\n",
            "WARNING:tensorflow:From /usr/local/lib/python3.6/dist-packages/keras/backend/tensorflow_backend.py:1033: The name tf.assign_add is deprecated. Please use tf.compat.v1.assign_add instead.\n",
            "\n",
            "WARNING:tensorflow:From /usr/local/lib/python3.6/dist-packages/keras/backend/tensorflow_backend.py:1020: The name tf.assign is deprecated. Please use tf.compat.v1.assign instead.\n",
            "\n",
            "Train on 1055 samples, validate on 355 samples\n",
            "Epoch 1/100\n",
            "1055/1055 [==============================] - 1s 992us/step - loss: 1.3803 - acc: 0.5052 - val_loss: 1.4794 - val_acc: 0.3465\n",
            "Epoch 2/100\n",
            "1055/1055 [==============================] - 0s 381us/step - loss: 0.8202 - acc: 0.7308 - val_loss: 1.1058 - val_acc: 0.5746\n",
            "Epoch 3/100\n",
            "1055/1055 [==============================] - 0s 341us/step - loss: 0.6644 - acc: 0.7507 - val_loss: 1.3799 - val_acc: 0.4394\n",
            "Epoch 4/100\n",
            "1055/1055 [==============================] - 0s 359us/step - loss: 0.6032 - acc: 0.8085 - val_loss: 1.0391 - val_acc: 0.6141\n",
            "Epoch 5/100\n",
            "1055/1055 [==============================] - 0s 340us/step - loss: 0.5181 - acc: 0.8246 - val_loss: 1.1019 - val_acc: 0.5859\n",
            "Epoch 6/100\n",
            "1055/1055 [==============================] - 0s 347us/step - loss: 0.4926 - acc: 0.8360 - val_loss: 1.1624 - val_acc: 0.5944\n",
            "Epoch 7/100\n",
            "1055/1055 [==============================] - 0s 355us/step - loss: 0.4258 - acc: 0.8692 - val_loss: 1.3260 - val_acc: 0.5465\n",
            "Epoch 8/100\n",
            "1055/1055 [==============================] - 0s 359us/step - loss: 0.3753 - acc: 0.8720 - val_loss: 1.0915 - val_acc: 0.6113\n",
            "Epoch 9/100\n",
            "1055/1055 [==============================] - 0s 350us/step - loss: 0.3160 - acc: 0.8882 - val_loss: 1.0674 - val_acc: 0.6225\n",
            "Epoch 10/100\n",
            "1055/1055 [==============================] - 0s 350us/step - loss: 0.2949 - acc: 0.9033 - val_loss: 1.0912 - val_acc: 0.6423\n",
            "Epoch 11/100\n",
            "1055/1055 [==============================] - 0s 338us/step - loss: 0.2708 - acc: 0.9118 - val_loss: 1.0956 - val_acc: 0.6338\n",
            "Epoch 12/100\n",
            "1055/1055 [==============================] - 0s 346us/step - loss: 0.2633 - acc: 0.9156 - val_loss: 1.0745 - val_acc: 0.6338\n",
            "Epoch 13/100\n",
            "1055/1055 [==============================] - 0s 345us/step - loss: 0.2298 - acc: 0.9289 - val_loss: 1.2637 - val_acc: 0.6113\n",
            "Epoch 14/100\n",
            "1055/1055 [==============================] - 0s 363us/step - loss: 0.2082 - acc: 0.9318 - val_loss: 1.0665 - val_acc: 0.6338\n",
            "Epoch 15/100\n",
            "1055/1055 [==============================] - 0s 370us/step - loss: 0.2082 - acc: 0.9346 - val_loss: 1.2125 - val_acc: 0.6366\n",
            "Epoch 16/100\n",
            "1055/1055 [==============================] - 0s 336us/step - loss: 0.1937 - acc: 0.9412 - val_loss: 1.0858 - val_acc: 0.6394\n",
            "Epoch 17/100\n",
            "1055/1055 [==============================] - 0s 335us/step - loss: 0.1649 - acc: 0.9507 - val_loss: 1.1660 - val_acc: 0.6141\n",
            "Epoch 18/100\n",
            "1055/1055 [==============================] - 0s 357us/step - loss: 0.1611 - acc: 0.9555 - val_loss: 1.2120 - val_acc: 0.6310\n",
            "Epoch 19/100\n",
            "1055/1055 [==============================] - 0s 346us/step - loss: 0.1202 - acc: 0.9649 - val_loss: 1.3019 - val_acc: 0.6085\n",
            "Epoch 20/100\n",
            "1055/1055 [==============================] - 0s 338us/step - loss: 0.1379 - acc: 0.9564 - val_loss: 1.2818 - val_acc: 0.6197\n",
            "Epoch 21/100\n",
            "1055/1055 [==============================] - 0s 354us/step - loss: 0.1207 - acc: 0.9687 - val_loss: 1.2474 - val_acc: 0.6479\n",
            "Epoch 22/100\n",
            "1055/1055 [==============================] - 0s 337us/step - loss: 0.1104 - acc: 0.9668 - val_loss: 1.2040 - val_acc: 0.6310\n",
            "Epoch 23/100\n",
            "1055/1055 [==============================] - 0s 352us/step - loss: 0.1061 - acc: 0.9659 - val_loss: 1.2532 - val_acc: 0.6282\n",
            "Epoch 24/100\n",
            "1055/1055 [==============================] - 0s 367us/step - loss: 0.1017 - acc: 0.9697 - val_loss: 1.2312 - val_acc: 0.6056\n",
            "Epoch 25/100\n",
            "1055/1055 [==============================] - 0s 353us/step - loss: 0.0948 - acc: 0.9744 - val_loss: 1.3660 - val_acc: 0.6282\n",
            "Epoch 26/100\n",
            "1055/1055 [==============================] - 0s 369us/step - loss: 0.1031 - acc: 0.9697 - val_loss: 1.3514 - val_acc: 0.6197\n",
            "Epoch 27/100\n",
            "1055/1055 [==============================] - 0s 387us/step - loss: 0.0813 - acc: 0.9810 - val_loss: 1.3091 - val_acc: 0.6394\n",
            "Epoch 28/100\n",
            "1055/1055 [==============================] - 0s 396us/step - loss: 0.0753 - acc: 0.9801 - val_loss: 1.4098 - val_acc: 0.6479\n",
            "Epoch 29/100\n",
            "1055/1055 [==============================] - 0s 356us/step - loss: 0.0673 - acc: 0.9801 - val_loss: 1.4481 - val_acc: 0.6423\n",
            "Epoch 30/100\n",
            "1055/1055 [==============================] - 0s 376us/step - loss: 0.0589 - acc: 0.9839 - val_loss: 1.4074 - val_acc: 0.6338\n",
            "Epoch 31/100\n",
            "1055/1055 [==============================] - 0s 360us/step - loss: 0.0727 - acc: 0.9801 - val_loss: 1.3840 - val_acc: 0.6451\n",
            "Epoch 32/100\n",
            "1055/1055 [==============================] - 0s 343us/step - loss: 0.0761 - acc: 0.9839 - val_loss: 1.4655 - val_acc: 0.6282\n",
            "Epoch 33/100\n",
            "1055/1055 [==============================] - 0s 343us/step - loss: 0.0745 - acc: 0.9791 - val_loss: 1.3413 - val_acc: 0.6423\n",
            "Epoch 34/100\n",
            "1055/1055 [==============================] - 0s 356us/step - loss: 0.0568 - acc: 0.9820 - val_loss: 1.4796 - val_acc: 0.6338\n",
            "Epoch 35/100\n",
            "1055/1055 [==============================] - 0s 349us/step - loss: 0.0858 - acc: 0.9744 - val_loss: 1.3755 - val_acc: 0.6451\n",
            "Epoch 36/100\n",
            "1055/1055 [==============================] - 0s 347us/step - loss: 0.0703 - acc: 0.9782 - val_loss: 1.3108 - val_acc: 0.6704\n",
            "Epoch 37/100\n",
            "1055/1055 [==============================] - 0s 355us/step - loss: 0.0532 - acc: 0.9877 - val_loss: 1.4916 - val_acc: 0.6451\n",
            "Epoch 38/100\n",
            "1055/1055 [==============================] - 0s 358us/step - loss: 0.0463 - acc: 0.9877 - val_loss: 1.4230 - val_acc: 0.6310\n",
            "Epoch 39/100\n",
            "1055/1055 [==============================] - 0s 357us/step - loss: 0.0596 - acc: 0.9848 - val_loss: 1.4262 - val_acc: 0.6338\n",
            "Epoch 40/100\n",
            "1055/1055 [==============================] - 0s 359us/step - loss: 0.0475 - acc: 0.9848 - val_loss: 1.5536 - val_acc: 0.6563\n",
            "Epoch 41/100\n",
            "1055/1055 [==============================] - 0s 344us/step - loss: 0.0451 - acc: 0.9905 - val_loss: 1.5655 - val_acc: 0.6394\n",
            "Epoch 42/100\n",
            "1055/1055 [==============================] - 0s 348us/step - loss: 0.0470 - acc: 0.9848 - val_loss: 1.4729 - val_acc: 0.6451\n",
            "Epoch 43/100\n",
            "1055/1055 [==============================] - 0s 357us/step - loss: 0.0385 - acc: 0.9886 - val_loss: 1.6042 - val_acc: 0.6282\n",
            "Epoch 44/100\n",
            "1055/1055 [==============================] - 0s 346us/step - loss: 0.0378 - acc: 0.9896 - val_loss: 1.6018 - val_acc: 0.6169\n",
            "Epoch 45/100\n",
            "1055/1055 [==============================] - 0s 358us/step - loss: 0.0389 - acc: 0.9915 - val_loss: 1.6405 - val_acc: 0.6479\n",
            "Epoch 46/100\n",
            "1055/1055 [==============================] - 0s 336us/step - loss: 0.0376 - acc: 0.9886 - val_loss: 1.4922 - val_acc: 0.6563\n",
            "Epoch 47/100\n",
            "1055/1055 [==============================] - 0s 370us/step - loss: 0.0448 - acc: 0.9877 - val_loss: 1.5008 - val_acc: 0.6479\n",
            "Epoch 48/100\n",
            "1055/1055 [==============================] - 0s 371us/step - loss: 0.0348 - acc: 0.9886 - val_loss: 1.4709 - val_acc: 0.6394\n",
            "Epoch 49/100\n",
            "1055/1055 [==============================] - 0s 349us/step - loss: 0.0441 - acc: 0.9877 - val_loss: 1.5630 - val_acc: 0.6423\n",
            "Epoch 50/100\n",
            "1055/1055 [==============================] - 0s 340us/step - loss: 0.0362 - acc: 0.9896 - val_loss: 1.6078 - val_acc: 0.6451\n",
            "Epoch 51/100\n",
            "1055/1055 [==============================] - 0s 360us/step - loss: 0.0317 - acc: 0.9915 - val_loss: 1.5789 - val_acc: 0.6563\n",
            "Epoch 52/100\n",
            "1055/1055 [==============================] - 0s 349us/step - loss: 0.0357 - acc: 0.9877 - val_loss: 1.5484 - val_acc: 0.6394\n",
            "Epoch 53/100\n",
            "1055/1055 [==============================] - 0s 359us/step - loss: 0.0370 - acc: 0.9915 - val_loss: 1.8211 - val_acc: 0.6056\n",
            "Epoch 54/100\n",
            "1055/1055 [==============================] - 0s 371us/step - loss: 0.0376 - acc: 0.9924 - val_loss: 1.6169 - val_acc: 0.6423\n",
            "Epoch 55/100\n",
            "1055/1055 [==============================] - 0s 353us/step - loss: 0.0266 - acc: 0.9953 - val_loss: 1.6214 - val_acc: 0.6563\n",
            "Epoch 56/100\n",
            "1055/1055 [==============================] - 0s 365us/step - loss: 0.0288 - acc: 0.9924 - val_loss: 1.9948 - val_acc: 0.6310\n",
            "Epoch 57/100\n",
            "1055/1055 [==============================] - 0s 342us/step - loss: 0.0307 - acc: 0.9896 - val_loss: 1.7569 - val_acc: 0.6141\n",
            "Epoch 58/100\n",
            "1055/1055 [==============================] - 0s 339us/step - loss: 0.0273 - acc: 0.9953 - val_loss: 1.7410 - val_acc: 0.6310\n",
            "Epoch 59/100\n",
            "1055/1055 [==============================] - 0s 354us/step - loss: 0.0233 - acc: 0.9924 - val_loss: 1.9257 - val_acc: 0.5972\n",
            "Epoch 60/100\n",
            "1055/1055 [==============================] - 0s 354us/step - loss: 0.0283 - acc: 0.9934 - val_loss: 1.9335 - val_acc: 0.6394\n",
            "Epoch 61/100\n",
            "1055/1055 [==============================] - 0s 341us/step - loss: 0.0274 - acc: 0.9934 - val_loss: 1.5170 - val_acc: 0.6535\n",
            "Epoch 62/100\n",
            "1055/1055 [==============================] - 0s 362us/step - loss: 0.0337 - acc: 0.9943 - val_loss: 1.7181 - val_acc: 0.6507\n",
            "Epoch 63/100\n",
            "1055/1055 [==============================] - 0s 361us/step - loss: 0.0385 - acc: 0.9896 - val_loss: 1.8107 - val_acc: 0.6169\n",
            "Epoch 64/100\n",
            "1055/1055 [==============================] - 0s 351us/step - loss: 0.0265 - acc: 0.9915 - val_loss: 1.6688 - val_acc: 0.6225\n",
            "Epoch 65/100\n",
            "1055/1055 [==============================] - 0s 352us/step - loss: 0.0312 - acc: 0.9915 - val_loss: 1.5938 - val_acc: 0.6451\n",
            "Epoch 66/100\n",
            "1055/1055 [==============================] - 0s 360us/step - loss: 0.0245 - acc: 0.9953 - val_loss: 1.6270 - val_acc: 0.6366\n",
            "Epoch 67/100\n",
            "1055/1055 [==============================] - 0s 355us/step - loss: 0.0259 - acc: 0.9943 - val_loss: 1.7274 - val_acc: 0.6451\n",
            "Epoch 68/100\n",
            "1055/1055 [==============================] - 0s 329us/step - loss: 0.0160 - acc: 0.9981 - val_loss: 1.8293 - val_acc: 0.6507\n",
            "Epoch 69/100\n",
            "1055/1055 [==============================] - 0s 352us/step - loss: 0.0146 - acc: 1.0000 - val_loss: 1.8710 - val_acc: 0.6366\n",
            "Epoch 70/100\n",
            "1055/1055 [==============================] - 0s 339us/step - loss: 0.0226 - acc: 0.9924 - val_loss: 1.8041 - val_acc: 0.6451\n",
            "Epoch 71/100\n",
            "1055/1055 [==============================] - 0s 340us/step - loss: 0.0161 - acc: 0.9943 - val_loss: 1.6858 - val_acc: 0.6423\n",
            "Epoch 72/100\n",
            "1055/1055 [==============================] - 0s 367us/step - loss: 0.0168 - acc: 0.9972 - val_loss: 1.9634 - val_acc: 0.6592\n",
            "Epoch 73/100\n",
            "1055/1055 [==============================] - 0s 344us/step - loss: 0.0182 - acc: 0.9972 - val_loss: 2.0698 - val_acc: 0.6254\n",
            "Epoch 74/100\n",
            "1055/1055 [==============================] - 0s 359us/step - loss: 0.0240 - acc: 0.9943 - val_loss: 1.7659 - val_acc: 0.6563\n",
            "Epoch 75/100\n",
            "1055/1055 [==============================] - 0s 364us/step - loss: 0.0183 - acc: 0.9943 - val_loss: 2.3092 - val_acc: 0.6028\n",
            "Epoch 76/100\n",
            "1055/1055 [==============================] - 0s 344us/step - loss: 0.0224 - acc: 0.9943 - val_loss: 1.6900 - val_acc: 0.6394\n",
            "Epoch 77/100\n",
            "1055/1055 [==============================] - 0s 340us/step - loss: 0.0150 - acc: 0.9953 - val_loss: 1.8885 - val_acc: 0.6225\n",
            "Epoch 78/100\n",
            "1055/1055 [==============================] - 0s 371us/step - loss: 0.0239 - acc: 0.9915 - val_loss: 1.7621 - val_acc: 0.6648\n",
            "Epoch 79/100\n",
            "1055/1055 [==============================] - 0s 347us/step - loss: 0.0270 - acc: 0.9915 - val_loss: 1.7724 - val_acc: 0.6451\n",
            "Epoch 80/100\n",
            "1055/1055 [==============================] - 0s 338us/step - loss: 0.0153 - acc: 0.9962 - val_loss: 1.7765 - val_acc: 0.6423\n",
            "Epoch 81/100\n",
            "1055/1055 [==============================] - 0s 344us/step - loss: 0.0124 - acc: 0.9981 - val_loss: 1.7053 - val_acc: 0.6761\n",
            "Epoch 82/100\n",
            "1055/1055 [==============================] - 0s 360us/step - loss: 0.0249 - acc: 0.9915 - val_loss: 2.1025 - val_acc: 0.6423\n",
            "Epoch 83/100\n",
            "1055/1055 [==============================] - 0s 340us/step - loss: 0.0179 - acc: 0.9962 - val_loss: 1.6835 - val_acc: 0.6479\n",
            "Epoch 84/100\n",
            "1055/1055 [==============================] - 0s 358us/step - loss: 0.0185 - acc: 0.9962 - val_loss: 1.9533 - val_acc: 0.6676\n",
            "Epoch 85/100\n",
            "1055/1055 [==============================] - 0s 352us/step - loss: 0.0156 - acc: 0.9953 - val_loss: 2.0190 - val_acc: 0.6507\n",
            "Epoch 86/100\n",
            "1055/1055 [==============================] - 0s 338us/step - loss: 0.0168 - acc: 0.9943 - val_loss: 1.8964 - val_acc: 0.6704\n",
            "Epoch 87/100\n",
            "1055/1055 [==============================] - 0s 353us/step - loss: 0.0191 - acc: 0.9934 - val_loss: 1.9468 - val_acc: 0.6423\n",
            "Epoch 88/100\n",
            "1055/1055 [==============================] - 0s 335us/step - loss: 0.0196 - acc: 0.9943 - val_loss: 1.7045 - val_acc: 0.6648\n",
            "Epoch 89/100\n",
            "1055/1055 [==============================] - 0s 355us/step - loss: 0.0179 - acc: 0.9924 - val_loss: 1.9238 - val_acc: 0.6169\n",
            "Epoch 90/100\n",
            "1055/1055 [==============================] - 0s 349us/step - loss: 0.0159 - acc: 0.9962 - val_loss: 2.1716 - val_acc: 0.6310\n",
            "Epoch 91/100\n",
            "1055/1055 [==============================] - 0s 345us/step - loss: 0.0327 - acc: 0.9886 - val_loss: 2.1973 - val_acc: 0.6225\n",
            "Epoch 92/100\n",
            "1055/1055 [==============================] - 0s 355us/step - loss: 0.0217 - acc: 0.9943 - val_loss: 2.0375 - val_acc: 0.6366\n",
            "Epoch 93/100\n",
            "1055/1055 [==============================] - 0s 343us/step - loss: 0.0150 - acc: 0.9962 - val_loss: 1.9484 - val_acc: 0.6592\n",
            "Epoch 94/100\n",
            "1055/1055 [==============================] - 0s 346us/step - loss: 0.0053 - acc: 0.9991 - val_loss: 2.2184 - val_acc: 0.6366\n",
            "Epoch 95/100\n",
            "1055/1055 [==============================] - 0s 392us/step - loss: 0.0103 - acc: 0.9972 - val_loss: 2.1141 - val_acc: 0.6423\n",
            "Epoch 96/100\n",
            "1055/1055 [==============================] - 0s 360us/step - loss: 0.0222 - acc: 0.9934 - val_loss: 2.4099 - val_acc: 0.6169\n",
            "Epoch 97/100\n",
            "1055/1055 [==============================] - 0s 353us/step - loss: 0.0159 - acc: 0.9953 - val_loss: 2.1930 - val_acc: 0.6282\n",
            "Epoch 98/100\n",
            "1055/1055 [==============================] - 0s 362us/step - loss: 0.0125 - acc: 0.9953 - val_loss: 2.2167 - val_acc: 0.6366\n",
            "Epoch 99/100\n",
            "1055/1055 [==============================] - 0s 341us/step - loss: 0.0182 - acc: 0.9972 - val_loss: 2.3305 - val_acc: 0.6394\n",
            "Epoch 100/100\n",
            "1055/1055 [==============================] - 0s 348us/step - loss: 0.0181 - acc: 0.9915 - val_loss: 2.0975 - val_acc: 0.6479\n",
            "355/355 [==============================] - 0s 137us/step\n",
            "[INFO] accuracy: 64.79%\n",
            "[INFO] Loss: 2.0975184700858427\n",
            "Time:  0:00:40.463026\n"
          ],
          "name": "stdout"
        }
      ]
    },
    {
      "cell_type": "code",
      "metadata": {
        "id": "-tfUuCFBKFUu",
        "colab_type": "code",
        "colab": {
          "base_uri": "https://localhost:8080/",
          "height": 444
        },
        "outputId": "ca63de33-9fb0-472a-bca3-78ac71a386da"
      },
      "source": [
        "#Model summary\n",
        "model.summary()"
      ],
      "execution_count": 15,
      "outputs": [
        {
          "output_type": "stream",
          "text": [
            "Model: \"sequential_1\"\n",
            "_________________________________________________________________\n",
            "Layer (type)                 Output Shape              Param #   \n",
            "=================================================================\n",
            "flatten_1 (Flatten)          (None, 25088)             0         \n",
            "_________________________________________________________________\n",
            "dense_1 (Dense)              (None, 100)               2508900   \n",
            "_________________________________________________________________\n",
            "leaky_re_lu_1 (LeakyReLU)    (None, 100)               0         \n",
            "_________________________________________________________________\n",
            "dropout_1 (Dropout)          (None, 100)               0         \n",
            "_________________________________________________________________\n",
            "dense_2 (Dense)              (None, 50)                5050      \n",
            "_________________________________________________________________\n",
            "leaky_re_lu_2 (LeakyReLU)    (None, 50)                0         \n",
            "_________________________________________________________________\n",
            "dropout_2 (Dropout)          (None, 50)                0         \n",
            "_________________________________________________________________\n",
            "dense_3 (Dense)              (None, 6)                 306       \n",
            "=================================================================\n",
            "Total params: 2,514,256\n",
            "Trainable params: 2,514,256\n",
            "Non-trainable params: 0\n",
            "_________________________________________________________________\n"
          ],
          "name": "stdout"
        }
      ]
    },
    {
      "cell_type": "code",
      "metadata": {
        "id": "GcOjZgD6KITq",
        "colab_type": "code",
        "colab": {
          "base_uri": "https://localhost:8080/",
          "height": 573
        },
        "outputId": "deda1812-0400-438f-b6e7-33547dd4033f"
      },
      "source": [
        "#Graphing our training and test\n",
        "acc = history.history['acc']\n",
        "val_acc = history.history['val_acc']\n",
        "loss = history.history['loss']\n",
        "val_loss = history.history['val_loss']\n",
        "epochs = range(len(acc))\n",
        "plt.plot(epochs, acc, 'r', label='Training acc')\n",
        "plt.plot(epochs, val_acc, 'b', label='test acc')\n",
        "plt.title('Training and test accuracy')\n",
        "plt.ylabel('accuracy')  \n",
        "plt.xlabel('epoch')\n",
        "plt.legend()\n",
        "plt.figure()\n",
        "plt.plot(epochs, loss, 'r', label='Training loss')\n",
        "plt.plot(epochs, val_loss, 'b', label='test loss')\n",
        "plt.title('Training and test loss')\n",
        "plt.ylabel('loss')  \n",
        "plt.xlabel('epoch')\n",
        "plt.legend()\n",
        "plt.show()"
      ],
      "execution_count": 16,
      "outputs": [
        {
          "output_type": "display_data",
          "data": {
            "image/png": "[encoded data removed]",
            "text/plain": [
              "<Figure size 432x288 with 1 Axes>"
            ]
          },
          "metadata": {
            "tags": []
          }
        },
        {
          "output_type": "display_data",
          "data": {
            "image/png": "[encoded data removed]",
            "text/plain": [
              "<Figure size 432x288 with 1 Axes>"
            ]
          },
          "metadata": {
            "tags": []
          }
        }
      ]
    },
    {
      "cell_type": "code",
      "metadata": {
        "id": "Yb3VXXFBNZw8",
        "colab_type": "code",
        "colab": {
          "base_uri": "https://localhost:8080/",
          "height": 321
        },
        "outputId": "341c4ba0-89cb-468d-ba0d-1b434430c2e6"
      },
      "source": [
        "tags = ['bar', 'info', 'line', 'map', 'other', 'scatter']\n",
        "classification_metrics = metrics.classification_report(validation_labels, preds, target_names=tags )\n",
        "print(classification_metrics)"
      ],
      "execution_count": 18,
      "outputs": [
        {
          "output_type": "stream",
          "text": [
            "              precision    recall  f1-score   support\n",
            "\n",
            "         bar       0.52      0.89      0.66        73\n",
            "        info       0.55      0.59      0.57        73\n",
            "        line       0.91      0.62      0.74       131\n",
            "         map       0.77      0.74      0.76        50\n",
            "       other       0.29      0.08      0.13        24\n",
            "     scatter       0.00      0.00      0.00         4\n",
            "\n",
            "   micro avg       0.66      0.64      0.65       355\n",
            "   macro avg       0.51      0.49      0.47       355\n",
            "weighted avg       0.68      0.64      0.64       355\n",
            " samples avg       0.64      0.64      0.64       355\n",
            "\n"
          ],
          "name": "stdout"
        },
        {
          "output_type": "stream",
          "text": [
            "/usr/local/lib/python3.6/dist-packages/sklearn/metrics/_classification.py:1272: UndefinedMetricWarning: Precision and F-score are ill-defined and being set to 0.0 in samples with no predicted labels. Use `zero_division` parameter to control this behavior.\n",
            "  _warn_prf(average, modifier, msg_start, len(result))\n"
          ],
          "name": "stderr"
        }
      ]
    }
  ]
}