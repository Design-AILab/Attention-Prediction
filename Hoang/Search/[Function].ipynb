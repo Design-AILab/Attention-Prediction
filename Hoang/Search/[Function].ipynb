{
  "nbformat": 4,
  "nbformat_minor": 0,
  "metadata": {
    "colab": {
      "name": "[Function].ipynb",
      "provenance": []
    },
    "kernelspec": {
      "name": "python3",
      "display_name": "Python 3"
    }
  },
  "cells": [
    {
      "cell_type": "code",
      "metadata": {
        "id": "W_CJc0I9UZYM",
        "colab_type": "code",
        "colab": {}
      },
      "source": [
        "import os\n",
        "os.chdir(\"/content/drive/Shared drives/AILab/Search\")\n",
        "from functions import *"
      ],
      "execution_count": 0,
      "outputs": []
    },
    {
      "cell_type": "code",
      "metadata": {
        "id": "IMibx0vmU5Jx",
        "colab_type": "code",
        "colab": {
          "base_uri": "https://localhost:8080/",
          "height": 319
        },
        "outputId": "a6c6e93a-3f19-42e5-81c3-e84db2ea3b71"
      },
      "source": [
        "search()"
      ],
      "execution_count": 3,
      "outputs": [
        {
          "output_type": "stream",
          "text": [
            "Search term: ios, clean, happy, colorful\n"
          ],
          "name": "stdout"
        },
        {
          "output_type": "execute_result",
          "data": {
            "text/plain": [
              "3174    https://dribbble.com/shots/11343558-Solar-Calc...\n",
              "1648    https://www.behance.net/gallery/79355497/Procr...\n",
              "2802    https://dribbble.com/shots/11317692-Relaxation...\n",
              "2880        https://dribbble.com/shots/11317482-Music-App\n",
              "3099    https://dribbble.com/shots/11304311-Free-phone...\n",
              "3368    https://dribbble.com/shots/11342441-Mouse-purc...\n",
              "3142    https://dribbble.com/shots/11299266-8theme-Ill...\n",
              "2899    https://dribbble.com/shots/11317439-Meet-Inter...\n",
              "3121    https://dribbble.com/shots/11304746-Food-Deliv...\n",
              "2773    https://dribbble.com/shots/11317039-Smart-Home...\n",
              "3313       https://dribbble.com/shots/11306136-squid-talk\n",
              "2929    https://dribbble.com/shots/11300447-Storytale-...\n",
              "3239    https://dribbble.com/shots/11316119-PCF-watchO...\n",
              "3199    https://dribbble.com/shots/11336640-M-st-iOS-D...\n",
              "3088    https://dribbble.com/shots/11300513-Oopsie-Reo...\n",
              "Name: url, dtype: object"
            ]
          },
          "metadata": {
            "tags": []
          },
          "execution_count": 3
        }
      ]
    }
  ]
}